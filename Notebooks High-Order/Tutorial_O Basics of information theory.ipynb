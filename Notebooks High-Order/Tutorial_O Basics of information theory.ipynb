{
 "cells": [
  {
   "cell_type": "code",
   "execution_count": 2,
   "id": "10a75100",
   "metadata": {},
   "outputs": [],
   "source": [
    "# Shannon Entropy"
   ]
  },
  {
   "cell_type": "code",
   "execution_count": 3,
   "id": "cbfea55f",
   "metadata": {},
   "outputs": [
    {
     "data": {
      "application/vnd.jupyter.widget-view+json": {
       "model_id": "12f53b8738db4d88baf38432fc71d0eb",
       "version_major": 2,
       "version_minor": 0
      },
      "text/plain": [
       "interactive(children=(FloatSlider(value=0.5, description='p1', max=1.0, step=0.01), Output()), _dom_classes=('…"
      ]
     },
     "metadata": {},
     "output_type": "display_data"
    },
    {
     "data": {
      "text/plain": [
       "<function __main__.update_plots(p1)>"
      ]
     },
     "execution_count": 3,
     "metadata": {},
     "output_type": "execute_result"
    }
   ],
   "source": [
    "import numpy as np\n",
    "import matplotlib.pyplot as plt\n",
    "from ipywidgets import interact, FloatSlider\n",
    "\n",
    "# Define Shannon entropy function\n",
    "def shannon_entropy(p1):\n",
    "    p2 = 1 - p1\n",
    "    if p1 == 0 or p2 == 0:\n",
    "        return 0\n",
    "    return -(p1 * np.log2(p1) + p2 * np.log2(p2))\n",
    "\n",
    "# Function to update both plots dynamically\n",
    "def update_plots(p1):\n",
    "    p2 = 1 - p1\n",
    "    entropy = shannon_entropy(p1)\n",
    "\n",
    "    # Set up the figure\n",
    "    fig, (ax1, ax2) = plt.subplots(1, 2, figsize=(12, 5))\n",
    "    \n",
    "    # Plot 1: Bar plot of p1 and p2\n",
    "    ax1.bar(['p1', 'p2'], [p1, p2], color=['blue', 'orange'])\n",
    "    ax1.set_ylim(0, 1)\n",
    "    ax1.set_title('Probabilities p1 and p2', fontsize=14)\n",
    "    ax1.set_ylabel('Probability')\n",
    "    \n",
    "    # Plot 2: Shannon entropy plot vs. p1\n",
    "    p1_values = np.linspace(0, 1, 100)\n",
    "    entropy_values = [shannon_entropy(p) for p in p1_values]\n",
    "    ax2.plot(p1_values, entropy_values, label='Shannon Entropy H(p1, p2)', color='b')\n",
    "    ax2.scatter(p1, entropy, color='red', zorder=5, label=f'Current p1 = {p1:.2f}')\n",
    "    ax2.set_title('Shannon Entropy vs p1', fontsize=14)\n",
    "    ax2.set_xlabel('p1')\n",
    "    ax2.set_ylabel('Entropy (bits)')\n",
    "    ax2.grid(True)\n",
    "    ax2.legend()\n",
    "    \n",
    "    plt.tight_layout()\n",
    "    plt.show()\n",
    "\n",
    "# Create interactive slider\n",
    "interact(update_plots, p1=FloatSlider(min=0, max=1, step=0.01, value=0.5, description='p1'))"
   ]
  },
  {
   "cell_type": "code",
   "execution_count": null,
   "id": "89055302",
   "metadata": {},
   "outputs": [],
   "source": []
  },
  {
   "cell_type": "code",
   "execution_count": 4,
   "id": "33fc773e",
   "metadata": {},
   "outputs": [
    {
     "data": {
      "application/vnd.jupyter.widget-view+json": {
       "model_id": "72a307db2a574d2ca6b1a6e04197e5aa",
       "version_major": 2,
       "version_minor": 0
      },
      "text/plain": [
       "interactive(children=(FloatSlider(value=0.0, description='Correlation', max=1.0, min=-1.0, step=0.01), Output(…"
      ]
     },
     "metadata": {},
     "output_type": "display_data"
    },
    {
     "data": {
      "text/plain": [
       "<function __main__.update_plots(correlation)>"
      ]
     },
     "execution_count": 4,
     "metadata": {},
     "output_type": "execute_result"
    }
   ],
   "source": [
    "import numpy as np\n",
    "import matplotlib.pyplot as plt\n",
    "from ipywidgets import interact, FloatSlider\n",
    "from scipy.stats import entropy\n",
    "\n",
    "# Function to compute mutual information\n",
    "def mutual_information(pxy, px, py):\n",
    "    mi = 0.0\n",
    "    for i in range(len(px)):\n",
    "        for j in range(len(py)):\n",
    "            if pxy[i, j] > 0:  # Only compute for non-zero probabilities\n",
    "                mi += pxy[i, j] * np.log2(pxy[i, j] / (px[i] * py[j]))\n",
    "    return mi\n",
    "\n",
    "# Function to generate joint probability distribution with adjustable correlation\n",
    "def generate_joint_distribution(correlation):\n",
    "    pxy = np.array([[0.25 + correlation / 2, 0.25 - correlation / 2],\n",
    "                    [0.25 - correlation / 2, 0.25 + correlation / 2]])\n",
    "    \n",
    "    # Marginal distributions\n",
    "    px = np.sum(pxy, axis=1)\n",
    "    py = np.sum(pxy, axis=0)\n",
    "    \n",
    "    return pxy, px, py\n",
    "\n",
    "# Function to update plots dynamically\n",
    "def update_plots(correlation):\n",
    "    pxy, px, py = generate_joint_distribution(correlation)\n",
    "    mi = mutual_information(pxy, px, py)\n",
    "    \n",
    "    fig, (ax1, ax2) = plt.subplots(1, 2, figsize=(12, 5))\n",
    "    \n",
    "    # Plot 1: Joint Probability Distribution as a heatmap\n",
    "    cax = ax1.matshow(pxy, cmap='Blues')\n",
    "    fig.colorbar(cax, ax=ax1)\n",
    "    ax1.set_title(f'Joint Probability Distribution\\nCorrelation: {correlation:.2f}', fontsize=14)\n",
    "    ax1.set_xticks([0, 1])\n",
    "    ax1.set_yticks([0, 1])\n",
    "    ax1.set_xticklabels(['Y=0', 'Y=1'])\n",
    "    ax1.set_yticklabels(['X=0', 'X=1'])\n",
    "    \n",
    "    # Plot 2: Display mutual information\n",
    "    ax2.bar(['Mutual Information'], [mi], color='orange')\n",
    "    ax2.set_ylim(0, 1)\n",
    "    ax2.set_title(f'Mutual Information: {mi:.3f} bits', fontsize=14)\n",
    "    \n",
    "    plt.tight_layout()\n",
    "    plt.show()\n",
    "\n",
    "# Create interactive slider for correlation\n",
    "interact(update_plots, correlation=FloatSlider(min=-1, max=1, step=0.01, value=0, description='Correlation'))\n"
   ]
  },
  {
   "cell_type": "code",
   "execution_count": null,
   "id": "54a2a587",
   "metadata": {},
   "outputs": [],
   "source": []
  }
 ],
 "metadata": {
  "kernelspec": {
   "display_name": "Python 3 (ipykernel)",
   "language": "python",
   "name": "python3"
  },
  "language_info": {
   "codemirror_mode": {
    "name": "ipython",
    "version": 3
   },
   "file_extension": ".py",
   "mimetype": "text/x-python",
   "name": "python",
   "nbconvert_exporter": "python",
   "pygments_lexer": "ipython3",
   "version": "3.11.5"
  }
 },
 "nbformat": 4,
 "nbformat_minor": 5
}
